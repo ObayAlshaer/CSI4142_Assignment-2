{
 "cells": [
  {
   "cell_type": "markdown",
   "id": "e193b808-2cc9-4a67-9e06-eb3c20e2d694",
   "metadata": {},
   "source": [
    "# This is dataset 2"
   ]
  },
  {
   "cell_type": "code",
   "execution_count": null,
   "id": "9d8e4d4b",
   "metadata": {
    "vscode": {
     "languageId": "plaintext"
    }
   },
   "outputs": [],
   "source": []
  },
  {
   "cell_type": "markdown",
   "id": "aba77c0c",
   "metadata": {},
   "source": [
    "## References\n",
    "\n",
    "### Data Analysis and Visualization Resources\n",
    "\n",
    "#### 1. Seaborn Documentation\n",
    "\n",
    "**Link:** [Seaborn Documentation](https://seaborn.pydata.org/)  \n",
    "**How It Helped:**  \n",
    "The Seaborn documentation was instrumental in helping us implement various visualizations like countplots, histograms, and scatterplots. \n",
    "\n",
    "\n",
    "---\n",
    "\n",
    "### 2. Pandas Documentation\n",
    "\n",
    "**Link:** [Pandas Documentation](https://pandas.pydata.org/docs/)  \n",
    "**How It Helped:**  \n",
    "Pandas' powerful data manipulation functions were essential in cleaning and transforming the dataset. \n",
    "\n",
    "\n",
    "---\n",
    "\n",
    "### 3. OpenAI (ChatGPT), Claude, DeepSeek (R1)\n",
    "\n",
    "**How It Helped:**  \n",
    "OpenAI’s ChatGPT, ClaudeAI, and DeepSeek R1 helped by suggesting additional analysis techniques when we were brainstorming how to error-check the datasets. Addtionally, if we dealt with any code error, we used the AI to help us debug.\n",
    "\n",
    "\n",
    "---\n",
    "\n",
    "### 4. Stack Overflow\n",
    "\n",
    "**Link:** [Stack Overflow](https://stackoverflow.com/)  \n",
    "**How It Helped:**  \n",
    "Stack Overflow was a key resource to better understand how we can make the required analysis for each error-check. \n",
    "\n",
    "---\n",
    "\n",
    "### 5. Towards Data Science (Medium)\n",
    "\n",
    "**Link:** [Towards Data Science](https://towardsdatascience.com/)  \n",
    "**How It Helped:**  \n",
    "The article on data exploration techniques from Towards Data Science helped us approach with unknown areas when dealing with error-checking. \n",
    "\n"
   ]
  }
 ],
 "metadata": {
  "kernelspec": {
   "display_name": "Python 3 (ipykernel)",
   "language": "python",
   "name": "python3"
  },
  "language_info": {
   "name": ""
  }
 },
 "nbformat": 4,
 "nbformat_minor": 5
}
