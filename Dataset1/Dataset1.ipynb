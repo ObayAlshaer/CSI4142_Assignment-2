{
 "cells": [
  {
   "cell_type": "markdown",
   "id": "9fb34361-c9c4-49e0-a572-ff9a0a6f4274",
   "metadata": {},
   "source": [
    "# CSI4142 - Fundamentals of Data Science Assignment 2  \n",
    "\n",
    "## *Data Cleaning*  \n",
    "\n",
    "**Professor**: Caroline Barrière  \n",
    "**Students**: Mohamed-Obay Alshaer & Samih Karroum  \n",
    "**Student Numbers**: 300170489 & 300188957  \n",
    "**Submission Date**: February 25th, 2025  \n",
    "**Group Number**: 39  \n",
    "\n",
    "---  \n",
    "\n",
    "## Assignment Overview  \n",
    "\n",
    "This notebook implements a **Clean Data Checker**, designed to validate the integrity and quality of a dataset by identifying common data issues. The checker performs **10 different validation tests**, each targeting a specific type of potential error:  \n",
    "\n",
    "1. **Data Type Errors** – Ensuring values match their expected data types.  \n",
    "2. **Range Errors** – Checking if numerical values fall within an expected range.  \n",
    "3. **Format Errors** – Validating that data follows a specific format (e.g., dates, IDs).  \n",
    "4. **Consistency Errors** – Identifying conflicting or contradictory values.  \n",
    "5. **Uniqueness Errors** – Verifying attributes that should have unique values.  \n",
    "6. **Presence Errors** – Detecting missing values in required fields.  \n",
    "7. **Length Errors** – Checking if text values meet length constraints.  \n",
    "8. **Look-up Errors** – Ensuring categorical values exist in a predefined list.  \n",
    "9. **Exact Duplicate Errors** – Detecting completely duplicated rows.  \n",
    "10. **Near Duplicate Errors** – Identifying rows that are very similar but not identical.  \n",
    "\n",
    "Each test is structured into **four parts**:  \n",
    "\n",
    "1. **Error Description** – Explanation of the type of error being checked.  \n",
    "2. **Parameter Definition** – A cell where users can define validation rules.  \n",
    "3. **Validation Code** – The logic that performs the check based on provided parameters.  \n",
    "4. **Results Report** – A summary of detected issues with examples.  \n",
    "\n",
    "---  \n",
    "\n",
    "## Dataset Description  \n",
    "\n",
    "The dataset used in this notebook contains **records of real estate transactions in New York City** over a **12-month period**. Each row represents a **building or building unit sale** and includes information such as location, address, property type, sale price, and sale date.  \n",
    "\n",
    "### **Key Fields**  \n",
    "- **BOROUGH** – Encoded as a digit (1–5) representing different NYC boroughs.  \n",
    "- **BLOCK, LOT** – Together with BOROUGH, these form a unique property identifier.  \n",
    "- **BUILDING CLASS AT PRESENT / TIME OF SALE** – Indicates the type of property.  \n",
    "- **SALE PRICE** – The transaction amount for the property.  \n",
    "- **SALE DATE** – The date when the property was sold.  \n",
    "\n",
    "### **Important Considerations**  \n",
    "- Some sales have **$0 or very low values**, which often indicate **property transfers** rather than standard sales.  \n",
    "- Sales data follows **financial definitions**, meaning some records represent **entire buildings**, while others represent **individual apartments**.  \n",
    "\n",
    "This dataset provides **valuable insight into NYC's real estate market trends**, and by running the **Clean Data Checker**, we can identify and correct **potential data quality issues** before further analysis.  \n"
   ]
  },
  {
   "cell_type": "markdown",
   "id": "d8c10732",
   "metadata": {},
   "source": []
  },
  {
   "cell_type": "markdown",
   "id": "b8531fa8",
   "metadata": {},
   "source": []
  }
 ],
 "metadata": {
  "kernelspec": {
   "display_name": "Python 3 (ipykernel)",
   "language": "python",
   "name": "python3"
  },
  "language_info": {
   "name": ""
  }
 },
 "nbformat": 4,
 "nbformat_minor": 5
}
